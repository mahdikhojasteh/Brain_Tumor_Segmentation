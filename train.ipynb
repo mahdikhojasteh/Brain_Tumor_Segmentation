{
 "cells": [
  {
   "cell_type": "code",
   "execution_count": 7,
   "metadata": {},
   "outputs": [],
   "source": [
    "import os\n",
    "import torch\n",
    "import pytorch_lightning as pl\n",
    "from my_dataset.dataloader import BrainDataModule\n",
    "from my_lightning_module.segmenter import SegModel, ModelEnum, MetricTracker\n",
    "from pytorch_lightning.callbacks import ModelCheckpoint\n",
    "import numpy as np"
   ]
  },
  {
   "cell_type": "code",
   "execution_count": null,
   "metadata": {},
   "outputs": [],
   "source": [
    "nums_folds = 5\n",
    "split_seed = 12345\n",
    "for model_enum in ModelEnum:\n",
    "    results = []\n",
    "    # if model_enum != ModelEnum.UNET:\n",
    "        \n",
    "    for k in range(1, nums_folds):\n",
    "        # k=1\n",
    "        segmenter = SegModel(model_enum=model_enum)\n",
    "\n",
    "        # saves top-K checkpoints based on \"val_loss\" metric\n",
    "        checkpoint_callback = ModelCheckpoint(\n",
    "            save_top_k=3,\n",
    "            monitor=\"val_loss\",\n",
    "            mode=\"min\",\n",
    "            filename=f\"{model_enum.name}\"+\"-{epoch:02d}-{val_loss:.2f}\",\n",
    "        )\n",
    "        \n",
    "        metric_tracker_callback = MetricTracker()\n",
    "        \n",
    "        trainer = pl.Trainer(\n",
    "            accelerator='gpu',\n",
    "            callbacks=[checkpoint_callback, metric_tracker_callback],\n",
    "            max_epochs=30\n",
    "        ) # , fast_dev_run=True\n",
    "\n",
    "        data_dir = '/media/idham/SpaceX/333_workspace/my_lab/stacked_img_msk_data_dirs.npy'\n",
    "        datamodule = BrainDataModule(data_dir=data_dir, k=k, num_splits=nums_folds, split_seed=split_seed, batch_size=40, num_workers=os.cpu_count())\n",
    "        datamodule.prepare_data()\n",
    "        datamodule.setup()\n",
    "\n",
    "        trainer.fit(model=segmenter, datamodule=datamodule)\n",
    "        \n",
    "        val_loss = trainer.logged_metrics['val_loss'].item()\n",
    "        score = round((1-val_loss)*100,2)        \n",
    "        results.append(score)\n",
    "        \n",
    "        np.save(f\"metric_collection_{nums_folds}_fold_k_{k}_{model_enum.name}\", metric_tracker_callback.collection)\n",
    "\n",
    "        # score = round(sum(results) / 1, 2)\n",
    "        # np.save(f\"score_{nums_folds}_fold_{model_enum.name}\", score)\n",
    "\n",
    "    score = round(sum(results) / nums_folds, 2)\n",
    "    np.save(f\"score_{nums_folds}_fold_{model_enum.name}\", score)"
   ]
  }
 ],
 "metadata": {
  "kernelspec": {
   "display_name": "Python 3.10.4 ('env': venv)",
   "language": "python",
   "name": "python3"
  },
  "language_info": {
   "codemirror_mode": {
    "name": "ipython",
    "version": 3
   },
   "file_extension": ".py",
   "mimetype": "text/x-python",
   "name": "python",
   "nbconvert_exporter": "python",
   "pygments_lexer": "ipython3",
   "version": "3.10.4"
  },
  "orig_nbformat": 4,
  "vscode": {
   "interpreter": {
    "hash": "b9e44c28a4cfa1afa7c616dcee9fa5c0c91af2157254d0abe500c94bb59428a9"
   }
  }
 },
 "nbformat": 4,
 "nbformat_minor": 2
}
